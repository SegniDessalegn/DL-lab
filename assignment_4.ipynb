{
 "cells": [
  {
   "cell_type": "code",
   "execution_count": 1,
   "metadata": {},
   "outputs": [],
   "source": [
    "import torch\n"
   ]
  },
  {
   "cell_type": "markdown",
   "metadata": {},
   "source": [
    "# Creating Layers"
   ]
  },
  {
   "cell_type": "code",
   "execution_count": 2,
   "metadata": {},
   "outputs": [],
   "source": [
    "class DenseLayer:\n",
    "  # Layer initialization\n",
    "  def __init__(self, n_inputs, n_neurons):\n",
    "    # Initialize weights and biases\n",
    "    self.weights = 0.01 * torch.rand(n_inputs, n_neurons)\n",
    "    self.biases = torch.zeros((1, n_neurons))\n",
    "\n",
    "  # Forward pass\n",
    "  def forward(self, inputs):\n",
    "    # Calculate output values from inputs, weights and biases\n",
    "    self.output = torch.matmul(inputs, self.weights) + self.biases\n"
   ]
  },
  {
   "cell_type": "markdown",
   "metadata": {},
   "source": [
    "# Activation Functions"
   ]
  },
  {
   "cell_type": "markdown",
   "metadata": {},
   "source": [
    "Linear"
   ]
  },
  {
   "cell_type": "code",
   "execution_count": 4,
   "metadata": {},
   "outputs": [],
   "source": [
    "class Activation_Linear:\n",
    "    # Forward pass\n",
    "    def forward(self, inputs):\n",
    "        self.output = self.inputs\n"
   ]
  },
  {
   "cell_type": "markdown",
   "metadata": {},
   "source": [
    "## Sigmoid"
   ]
  },
  {
   "cell_type": "code",
   "execution_count": 5,
   "metadata": {},
   "outputs": [],
   "source": [
    "class Activation_Sigmoid:\n",
    "  # Forward pass\n",
    "  def forward(self, inputs):\n",
    "    self.output = 1 / (1 + torch.exp(inputs*-1))\n"
   ]
  },
  {
   "cell_type": "code",
   "execution_count": 6,
   "metadata": {},
   "outputs": [],
   "source": [
    "class Loss_CategoricalCrossentropy() :\n",
    "  # Forward pass\n",
    "  def forward(self, y_pred, y_true):\n",
    "    samples = len(y_pred)\n",
    "    # Clip data to prevent division by 0\n",
    "    # Clip both sides to not drag mean towards any value\n",
    "    y_pred_clipped = torch.clip(y_pred, 1e-8, 1 - 1e-8)\n",
    "    # only if categorical labels\n",
    "    if len(y_true.shape) == 1:\n",
    "      correct_confidences = y_pred_clipped[range(samples), y_true]\n",
    "    # Mask values - only for one-hot encoded labels\n",
    "    elif len(y_true.shape) == 2:\n",
    "      correct_confidences = torch.sum(y_pred_clipped * y_true, axis=1)\n",
    "    log_loss = -torch.log(correct_confidences)\n",
    "    data_loss = torch.mean(log_loss)\n",
    "    return data_loss\n"
   ]
  },
  {
   "cell_type": "code",
   "execution_count": 7,
   "metadata": {},
   "outputs": [],
   "source": [
    "softmax_outputs = torch.tensor([[0.7, 0.1, 0.2], [0.1, 0.5, 0.4],[0.02, 0.9, 0.08]])\n",
    "class_targets = torch.tensor([[1, 0, 0], [0, 1, 0], [1, 0, 0]])\n"
   ]
  },
  {
   "cell_type": "code",
   "execution_count": 8,
   "metadata": {},
   "outputs": [
    {
     "data": {
      "text/plain": [
       "tensor(1.6539)"
      ]
     },
     "execution_count": 8,
     "metadata": {},
     "output_type": "execute_result"
    }
   ],
   "source": [
    "x = Loss_CategoricalCrossentropy()\n",
    "x.forward(softmax_outputs, class_targets)\n"
   ]
  },
  {
   "cell_type": "code",
   "execution_count": 13,
   "metadata": {},
   "outputs": [],
   "source": [
    "X = torch.tensor([0.1, 0.5])\n",
    "y = torch.tensor([0.05, 0.95])\n"
   ]
  },
  {
   "cell_type": "code",
   "execution_count": 15,
   "metadata": {},
   "outputs": [],
   "source": [
    "hidden_layer_1 = DenseLayer(2, 2)\n",
    "activation1 = Activation_Sigmoid()\n",
    "output_layer = DenseLayer(2, 2)\n",
    "activation2 = Activation_Linear()\n"
   ]
  },
  {
   "cell_type": "code",
   "execution_count": 16,
   "metadata": {},
   "outputs": [],
   "source": [
    "def forward_pass(X):\n",
    "  hidden_layer_1.forward(X)\n",
    "  activation1.forward(hidden_layer_1.output)\n",
    "  output_layer.forward(activation1.output)\n",
    "  activation2.forward(output_layer.output)\n",
    "  return activation2.output\n"
   ]
  },
  {
   "cell_type": "code",
   "execution_count": 17,
   "metadata": {},
   "outputs": [],
   "source": [
    "def back_prop(fp, X, y, output_layer, activation1, hidden_layer_1):\n",
    "    lr = torch.tensor(0.01)\n",
    "\n",
    "    # Output layer backpropagation with sigmoid activation\n",
    "    back1 = (fp[0][0] - y[0]) * fp[0][0] * (1 - fp[0][0])\n",
    "    back2 = (fp[0][1] - y[1]) * fp[0][1] * (1 - fp[0][1])\n",
    "\n",
    "    output_layer.weights[0][0] -= lr * back1 * activation1.output[0][0]\n",
    "    output_layer.weights[0][1] -= lr * back1 * activation1.output[0][1]\n",
    "    output_layer.weights[1][0] -= lr * back2 * activation1.output[0][0]\n",
    "    output_layer.weights[1][1] -= lr * back2 * activation1.output[0][1]\n",
    "    output_layer.biases[0][0] -= lr * back1\n",
    "    output_layer.biases[0][1] -= lr * back2\n",
    "\n",
    "    # Hidden layer backpropagation with Linear activation\n",
    "    hidden1_grad = (back1 * output_layer.weights[0][0] + back2 * output_layer.weights[0][1]) * (hidden_layer_1.output[0][0] > 0).float()\n",
    "    hidden2_grad = (back1 * output_layer.weights[1][0] + back2 * output_layer.weights[1][1]) * (hidden_layer_1.output[0][1] > 0).float()\n",
    "\n",
    "    hidden_layer_1.weights[0][0] -= lr * hidden1_grad * X[0]\n",
    "    hidden_layer_1.weights[0][1] -= lr * hidden1_grad * X[1]\n",
    "    hidden_layer_1.weights[1][0] -= lr * hidden2_grad * X[0]\n",
    "    hidden_layer_1.weights[1][1] -= lr * hidden2_grad * X[1]\n",
    "    hidden_layer_1.biases[0][0] -= lr * hidden1_grad\n",
    "    hidden_layer_1.biases[0][1] -= lr * hidden2_grad\n"
   ]
  },
  {
   "cell_type": "code",
   "execution_count": 18,
   "metadata": {},
   "outputs": [],
   "source": [
    "def error_calculation(y_true, y_pred):\n",
    "  return torch.mean(0.5*(y_true - y_pred)**2)\n"
   ]
  },
  {
   "cell_type": "code",
   "execution_count": 19,
   "metadata": {},
   "outputs": [],
   "source": [
    "loss = 0.0001\n"
   ]
  },
  {
   "cell_type": "code",
   "execution_count": null,
   "metadata": {},
   "outputs": [],
   "source": [
    "y_pred = forward_pass(X)\n",
    "err = error_calculation(y, y_pred)\n",
    "print(\"Initial loss:\", err)\n",
    "print(\"Initial prediction:\",y_pred)\n",
    "while err > loss:\n",
    "  back_prop(y_pred)\n",
    "  y_pred = forward_pass(X)\n",
    "  err = error_calculation(y, y_pred)\n",
    "print(\"Final loss:\", err)\n",
    "print(\"Final prediction:\",y_pred)\n",
    "print(\"Target value:\",y)\n"
   ]
  }
 ],
 "metadata": {
  "kernelspec": {
   "display_name": "Python 3",
   "language": "python",
   "name": "python3"
  },
  "language_info": {
   "codemirror_mode": {
    "name": "ipython",
    "version": 3
   },
   "file_extension": ".py",
   "mimetype": "text/x-python",
   "name": "python",
   "nbconvert_exporter": "python",
   "pygments_lexer": "ipython3",
   "version": "3.10.12"
  }
 },
 "nbformat": 4,
 "nbformat_minor": 2
}

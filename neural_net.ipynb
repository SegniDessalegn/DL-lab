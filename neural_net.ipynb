{
 "cells": [
  {
   "cell_type": "code",
   "execution_count": 14,
   "metadata": {},
   "outputs": [],
   "source": [
    "import torch"
   ]
  },
  {
   "cell_type": "code",
   "execution_count": 15,
   "metadata": {},
   "outputs": [],
   "source": [
    "class DenseLayer:\n",
    "  def __init__(self, n_features, n_neurons):\n",
    "    self.weights = 0.01 * torch.rand((n_features, n_neurons))\n",
    "    self.bias = torch.zeros(1, n_neurons)\n",
    "\n",
    "  def forward(self, inputs):\n",
    "    self.output = torch.matmul(inputs, self.weights) + self.bias"
   ]
  },
  {
   "cell_type": "code",
   "execution_count": 16,
   "metadata": {},
   "outputs": [],
   "source": [
    "input_layer = DenseLayer(5, 16)\n",
    "hidden_layer_1 = DenseLayer(16, 16)\n",
    "hidden_layer_2 = DenseLayer(16, 16)\n",
    "hidden_layer_3 = DenseLayer(16, 16)\n",
    "output_layer = DenseLayer(16, 5)"
   ]
  },
  {
   "cell_type": "code",
   "execution_count": 17,
   "metadata": {},
   "outputs": [],
   "source": [
    "inputs = torch.rand((125, 5))\n",
    "input_layer.forward(inputs)\n",
    "hidden_layer_1.forward(input_layer.output)\n",
    "hidden_layer_2.forward(hidden_layer_1.output)\n",
    "hidden_layer_3.forward(hidden_layer_2.output)\n",
    "output_layer.forward(hidden_layer_3.output)"
   ]
  },
  {
   "cell_type": "code",
   "execution_count": 18,
   "metadata": {},
   "outputs": [
    {
     "data": {
      "text/plain": [
       "torch.Size([125, 5])"
      ]
     },
     "execution_count": 18,
     "metadata": {},
     "output_type": "execute_result"
    }
   ],
   "source": [
    "output_layer.output.shape"
   ]
  }
 ],
 "metadata": {
  "kernelspec": {
   "display_name": "Python 3",
   "language": "python",
   "name": "python3"
  },
  "language_info": {
   "codemirror_mode": {
    "name": "ipython",
    "version": 3
   },
   "file_extension": ".py",
   "mimetype": "text/x-python",
   "name": "python",
   "nbconvert_exporter": "python",
   "pygments_lexer": "ipython3",
   "version": "3.10.12"
  },
  "orig_nbformat": 4
 },
 "nbformat": 4,
 "nbformat_minor": 2
}
